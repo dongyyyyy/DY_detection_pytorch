{
 "cells": [
  {
   "cell_type": "code",
   "execution_count": 4,
   "metadata": {},
   "outputs": [],
   "source": [
    "import numpy as np\n",
    "import skimage.io as io\n",
    "import matplotlib.pyplot as plt\n",
    "import pylab\n",
    "import json"
   ]
  },
  {
   "cell_type": "code",
   "execution_count": 24,
   "metadata": {},
   "outputs": [],
   "source": [
    "import glob\n",
    "from torch.utils.data import Dataset\n",
    "from PIL import Image\n",
    "import torchvision.transforms as transforms"
   ]
  },
  {
   "cell_type": "code",
   "execution_count": 54,
   "metadata": {},
   "outputs": [],
   "source": [
    "def read_text_file(file_path,index,image_name,image_shape):# YOLO Label을 읽기 위한 함수\n",
    "    dataDir = './../../../COCO_dataset'\n",
    "    dataType = 'val2017'\n",
    "    annFile = '{}/annotation/instances_{}.json'.format(dataDir,dataType)\n",
    "    print(annFile)\n",
    "    width , height = image_shape\n",
    "    label = []\n",
    "    with open(annFile) as json_file:\n",
    "        json_data = json.load(json_file)\n",
    "        json_image = json_data[\"images\"]\n",
    "        for i in json_image:\n",
    "            if(i[\"file_name\"]==\"000000021604.jpg\"):\n",
    "                id = i[\"id\"]\n",
    "        json_bbox = json_data[\"annotations\"]\n",
    "        for i in json_bbox:\n",
    "            if(i[\"image_id\"]==id):\n",
    "                bbox = i[\"bbox\"]\n",
    "        print(bbox) # x ,y , width , height\n",
    "        for i in range(0,len(bbox),4):\n",
    "            label_x = (bbox[i] + bbox[i+2]/2)/width\n",
    "            label_y = (bbox[i+1] + bbox[i+3]/2)/height\n",
    "            label_w = bbox[i+2]/width\n",
    "            label_h = bbox[i+3]/height\n",
    "            label.append({\"classes\": 0, \"x\": label_x, \"y\":label_y,\"width\":label_w,\"height\":label_h.strip('\\n')})\n",
    "    return label"
   ]
  },
  {
   "cell_type": "code",
   "execution_count": 51,
   "metadata": {},
   "outputs": [],
   "source": [
    "class ImageDataset_withLabel(Dataset):\n",
    "    def __init__(self, root, resize_shape, root_label):\n",
    "        self.root = root+'\\\\'\n",
    "        resize_height, resize_width = resize_shape\n",
    "        self.resize_transform = transforms.Compose(\n",
    "            [\n",
    "                transforms.Resize((resize_height,resize_width), Image.NEAREST), # image resize\n",
    "                transforms.ToTensor(), # float to tensor\n",
    "                transforms.Normalize(mean,std), # Normalize\n",
    "            ]\n",
    "        )\n",
    "\n",
    "        self.image_files = sorted(glob.glob(root+\"/*.jpg\")) # image sort\n",
    "        self.label_files = sorted(glob.glob(root_label+\"/*.txt\")) # label sort\n",
    "\n",
    "    def __getitem__(self,index):\n",
    "        img = Image.open(self.image_files[index % len(self.image_files)])\n",
    "        print(self.root)\n",
    "        img_name = self.image_files[index%len(self.image_files)].replace(self.root,\"\")\n",
    "        print(\"img : \",img_name)\n",
    "        origin_width , origin_height = img.size\n",
    "        origin_img = np.array(img.getdata()).reshape(img.size[0], img.size[1],-1)\n",
    "\n",
    "        img_data = self.resize_transform(img)\n",
    "        label = read_text_file(self.label_files,index % len(self.image_files),img_name,[origin_width,origin_height])\n",
    "\n",
    "        return {\"img\": img_data, \"label\": label, \"origin_width\":origin_width,\"origin_height\":origin_height,\"origin_img\":origin_img}\n",
    "\n",
    "    def __len__(self):  # data size를 넘겨주는 파트\n",
    "        return len(self.image_files)  # 파일 길이 반환 ( 총 이미지 수 )\n"
   ]
  },
  {
   "cell_type": "code",
   "execution_count": null,
   "metadata": {},
   "outputs": [],
   "source": []
  },
  {
   "cell_type": "code",
   "execution_count": 2,
   "metadata": {},
   "outputs": [],
   "source": [
    "dataDir = './../../../COCO_dataset'\n",
    "dataType = 'val2017'\n",
    "annFile = '{}/annotation/instances_{}.json'.format(dataDir,dataType)"
   ]
  },
  {
   "cell_type": "code",
   "execution_count": 3,
   "metadata": {},
   "outputs": [
    {
     "name": "stdout",
     "output_type": "stream",
     "text": [
      "./../../../COCO_dataset/annotation/instances_val2017.json\n"
     ]
    }
   ],
   "source": [
    "print(annFile)"
   ]
  },
  {
   "cell_type": "code",
   "execution_count": 9,
   "metadata": {},
   "outputs": [],
   "source": [
    "with open(annFile) as json_file:\n",
    "    json_data = json.load(json_file)"
   ]
  },
  {
   "cell_type": "code",
   "execution_count": 47,
   "metadata": {},
   "outputs": [],
   "source": [
    "    json_image = json_data[\"images\"]\n",
    "    for i in json_image:\n",
    "        if(i[\"file_name\"]==\"000000021604.jpg\"):\n",
    "            id = i[\"id\"]"
   ]
  },
  {
   "cell_type": "code",
   "execution_count": 48,
   "metadata": {},
   "outputs": [
    {
     "name": "stdout",
     "output_type": "stream",
     "text": [
      "21604\n"
     ]
    }
   ],
   "source": [
    "    print(id)"
   ]
  },
  {
   "cell_type": "code",
   "execution_count": 49,
   "metadata": {},
   "outputs": [],
   "source": [
    "    json_bbox = json_data[\"annotations\"]\n",
    "    for i in json_bbox:\n",
    "        if(i[\"image_id\"]==id):\n",
    "            bbox = i[\"bbox\"]"
   ]
  },
  {
   "cell_type": "code",
   "execution_count": 50,
   "metadata": {},
   "outputs": [
    {
     "name": "stdout",
     "output_type": "stream",
     "text": [
      "[41.71, 47.46, 438.65, 581.03]\n"
     ]
    }
   ],
   "source": [
    "    print(bbox) # x ,y , width , height"
   ]
  },
  {
   "cell_type": "code",
   "execution_count": null,
   "metadata": {},
   "outputs": [],
   "source": []
  }
 ],
 "metadata": {
  "kernelspec": {
   "display_name": "pytorch-1.3.0-cuda92",
   "language": "python",
   "name": "pytorch-1.3.0"
  },
  "language_info": {
   "codemirror_mode": {
    "name": "ipython",
    "version": 3
   },
   "file_extension": ".py",
   "mimetype": "text/x-python",
   "name": "python",
   "nbconvert_exporter": "python",
   "pygments_lexer": "ipython3",
   "version": "3.6.9"
  }
 },
 "nbformat": 4,
 "nbformat_minor": 2
}

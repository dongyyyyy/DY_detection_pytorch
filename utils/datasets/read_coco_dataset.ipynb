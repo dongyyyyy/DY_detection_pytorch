{
 "cells": [
  {
   "cell_type": "code",
   "execution_count": 4,
   "metadata": {},
   "outputs": [],
   "source": [
    "import numpy as np\n",
    "import skimage.io as io\n",
    "import matplotlib.pyplot as plt\n",
    "import pylab\n",
    "import json"
   ]
  },
  {
   "cell_type": "code",
   "execution_count": 24,
   "metadata": {},
   "outputs": [],
   "source": [
    "import glob\n",
    "from torch.utils.data import Dataset\n",
    "from PIL import Image\n",
    "import torchvision.transforms as transforms"
   ]
  },
  {
   "cell_type": "code",
   "execution_count": 57,
   "metadata": {},
   "outputs": [],
   "source": [
    "def read_text_file(file_path,index,image_name,image_shape):# YOLO Label을 읽기 위한 함수\n",
    "    dataDir = './../../../COCO_dataset'\n",
    "    dataType = 'val2017'\n",
    "    annFile = '{}/annotation/instances_{}.json'.format(dataDir,dataType)\n",
    "    print(annFile)\n",
    "    width , height = image_shape\n",
    "    label = []\n",
    "    with open(annFile) as json_file:\n",
    "        json_data = json.load(json_file)\n",
    "        json_image = json_data[\"images\"]\n",
    "        for i in json_image:\n",
    "            if(i[\"file_name\"]==image_name):\n",
    "                id = i[\"id\"]\n",
    "        json_bbox = json_data[\"annotations\"]\n",
    "        for i in json_bbox:\n",
    "            if(i[\"image_id\"]==id):\n",
    "                bbox = i[\"bbox\"]\n",
    "        print(bbox) # x ,y , width , height\n",
    "        for i in range(0,len(bbox),4):\n",
    "            label_x = (bbox[i] + bbox[i+2]/2)/width\n",
    "            label_y = (bbox[i+1] + bbox[i+3]/2)/height\n",
    "            label_w = bbox[i+2]/width\n",
    "            label_h = bbox[i+3]/height\n",
    "            label.append({\"classes\": 0, \"x\": label_x, \"y\":label_y,\"width\":label_w,\"height\":label_h.strip('\\n')})\n",
    "    return label"
   ]
  },
  {
   "cell_type": "code",
   "execution_count": 58,
   "metadata": {},
   "outputs": [],
   "source": [
    "class ImageDataset_withLabel(Dataset):\n",
    "    def __init__(self, root, resize_shape, root_label):\n",
    "        self.root = root+'\\\\'\n",
    "        resize_height, resize_width = resize_shape\n",
    "        self.resize_transform = transforms.Compose(\n",
    "            [\n",
    "                transforms.Resize((resize_height,resize_width), Image.NEAREST), # image resize\n",
    "                transforms.ToTensor(), # float to tensor\n",
    "                transforms.Normalize(mean,std), # Normalize\n",
    "            ]\n",
    "        )\n",
    "\n",
    "        self.image_files = sorted(glob.glob(root+\"/*.jpg\")) # image sort\n",
    "        self.label_files = sorted(glob.glob(root_label+\"/*.txt\")) # label sort\n",
    "\n",
    "    def __getitem__(self,index):\n",
    "        img = Image.open(self.image_files[index % len(self.image_files)])\n",
    "        print(self.root)\n",
    "        img_name = self.image_files[index%len(self.image_files)].replace(self.root,\"\")\n",
    "        print(\"img : \",img_name)\n",
    "        origin_width , origin_height = img.size\n",
    "        origin_img = np.array(img.getdata()).reshape(img.size[0], img.size[1],-1)\n",
    "\n",
    "        img_data = self.resize_transform(img)\n",
    "        label = read_text_file(self.label_files,index % len(self.image_files),img_name,[origin_width,origin_height])\n",
    "\n",
    "        return {\"img\": img_data, \"label\": label, \"origin_width\":origin_width,\"origin_height\":origin_height,\"origin_img\":origin_img}\n",
    "\n",
    "    def __len__(self):  # data size를 넘겨주는 파트\n",
    "        return len(self.image_files)  # 파일 길이 반환 ( 총 이미지 수 )\n"
   ]
  },
  {
   "cell_type": "code",
   "execution_count": 59,
   "metadata": {},
   "outputs": [
    {
     "ename": "ModuleNotFoundError",
     "evalue": "No module named 'utils'",
     "output_type": "error",
     "traceback": [
      "\u001b[1;31m---------------------------------------------------------------------------\u001b[0m",
      "\u001b[1;31mModuleNotFoundError\u001b[0m                       Traceback (most recent call last)",
      "\u001b[1;32m<ipython-input-59-5e34d9a8b708>\u001b[0m in \u001b[0;36m<module>\u001b[1;34m\u001b[0m\n\u001b[0;32m      2\u001b[0m \u001b[1;32mfrom\u001b[0m \u001b[0mtorchvision\u001b[0m\u001b[1;33m.\u001b[0m\u001b[0mutils\u001b[0m \u001b[1;32mimport\u001b[0m \u001b[0msave_image\u001b[0m\u001b[1;33m\u001b[0m\u001b[1;33m\u001b[0m\u001b[0m\n\u001b[0;32m      3\u001b[0m \u001b[1;32mimport\u001b[0m \u001b[0mmatplotlib\u001b[0m\u001b[1;33m.\u001b[0m\u001b[0mpyplot\u001b[0m \u001b[1;32mas\u001b[0m \u001b[0mplt\u001b[0m\u001b[1;33m\u001b[0m\u001b[1;33m\u001b[0m\u001b[0m\n\u001b[1;32m----> 4\u001b[1;33m \u001b[1;32mfrom\u001b[0m \u001b[0mutils\u001b[0m\u001b[1;33m.\u001b[0m\u001b[0mdatasets\u001b[0m\u001b[1;33m.\u001b[0m\u001b[0mreadDatasets\u001b[0m \u001b[1;32mimport\u001b[0m \u001b[1;33m*\u001b[0m\u001b[1;33m\u001b[0m\u001b[1;33m\u001b[0m\u001b[0m\n\u001b[0m\u001b[0;32m      5\u001b[0m \u001b[1;32mimport\u001b[0m \u001b[0mcv2\u001b[0m\u001b[1;33m\u001b[0m\u001b[1;33m\u001b[0m\u001b[0m\n\u001b[0;32m      6\u001b[0m \u001b[1;33m\u001b[0m\u001b[0m\n",
      "\u001b[1;31mModuleNotFoundError\u001b[0m: No module named 'utils'"
     ]
    }
   ],
   "source": [
    "from torch.utils.data import DataLoader\n",
    "from torchvision.utils import save_image\n",
    "import matplotlib.pyplot as plt\n",
    "from utils.datasets.readDatasets import *\n",
    "import cv2\n",
    "\n",
    "#print(read_text_file(\"./../../test.txt\"))\n",
    "\n",
    "if __name__ == '__main__':\n",
    "    dataloader = DataLoader(  # training data read\n",
    "            ImageDataset_withLabel(root=\"../../../COCO_dataset/val2017\" , resize_shape=(416,416),root_label=\"../../../COCO_dataset/annotation\"),# root = ../../data/img_align_celeba &  hr_shape = hr_shape\n",
    "            batch_size=1,  # batch size ( mini-batch )\n",
    "            shuffle=True,  # shuffle\n",
    "            num_workers=1, # using 8 cpu threads\n",
    "        )\n",
    "\n",
    "    for i, dataset in enumerate(dataloader):\n",
    "        print(\"i:{} ==> img.shape :{},\\nlabel :{}\".format(i,dataset[\"img\"],dataset[\"label\"]))\n",
    "        print(len(dataset[\"label\"]))\n",
    "        #기존 이미지 불러오기\n",
    "        origin_img = dataset[\"origin_img\"]\n",
    "        print(\"origin_img's shape : \",origin_img.shape)\n",
    "        origin_img = np.squeeze(origin_img, axis=0) # 차원 삭제 axis = 0 ==> 가장 맨 앞의 배열 차원을 없앤다.\n",
    "        print(\"origin_img's shape : \", origin_img.shape)\n",
    "        origin_img = np.array(origin_img, dtype='uint8') # pil저장 시 자료형태는 uint8 or float이여야 한다.\n",
    "        origin_img = np.reshape(origin_img,[dataset[\"origin_height\"],dataset[\"origin_width\"],-1])\n",
    "        #plt.imshow(origin_img)\n",
    "        #plt.show()\n",
    "        for j in dataset[\"label\"]:\n",
    "            print(j) # 전체 map 정보 출력\n",
    "            print('classes : {}'.format(j[\"classes\"])) # 각 key를 통한 value 접근\n",
    "\n",
    "            #현재 크기에 맞게 label값 변경\n",
    "            x = float(j[\"x\"][0]) * dataset[\"origin_width\"]\n",
    "            y = float(j[\"y\"][0]) * dataset[\"origin_height\"]\n",
    "            width = float(j[\"width\"][0]) * dataset[\"origin_width\"]\n",
    "            height = float(j[\"height\"][0]) * dataset[\"origin_height\"]\n",
    "\n",
    "            print(\"x : {}, y : {}, width : {}, height : {}\".format(x,y,width,height))\n",
    "            #rectangle을 그리기 위한 x1,y1 & x2,y2 값\n",
    "            x1 = x - width/2\n",
    "            y1 = y - height/2\n",
    "            x2 = x + width/2\n",
    "            y2 = y + height/2\n",
    "\n",
    "            cv2.rectangle(origin_img, (x1,y1), (x2,y2), (0, 0, 255), 1) # label을 통하여 boundingBox그리기\n",
    "            # cv.rectangle(img,(x1,y1),(x2,y2),color,thickness,lineType,shift)\n",
    "        save_image(dataset[\"img\"],\"./%d.jpg\"%i)\n",
    "        #cv shape = (height, width, channel)\n",
    "        plt.imshow(origin_img)\n",
    "        plt.show()\n",
    "        plt.imsave('./newImage.jpg',origin_img)"
   ]
  },
  {
   "cell_type": "code",
   "execution_count": 2,
   "metadata": {},
   "outputs": [],
   "source": [
    "dataDir = './../../../COCO_dataset'\n",
    "dataType = 'val2017'\n",
    "annFile = '{}/annotation/instances_{}.json'.format(dataDir,dataType)"
   ]
  },
  {
   "cell_type": "code",
   "execution_count": 3,
   "metadata": {},
   "outputs": [
    {
     "name": "stdout",
     "output_type": "stream",
     "text": [
      "./../../../COCO_dataset/annotation/instances_val2017.json\n"
     ]
    }
   ],
   "source": [
    "print(annFile)"
   ]
  },
  {
   "cell_type": "code",
   "execution_count": 9,
   "metadata": {},
   "outputs": [],
   "source": [
    "with open(annFile) as json_file:\n",
    "    json_data = json.load(json_file)"
   ]
  },
  {
   "cell_type": "code",
   "execution_count": 47,
   "metadata": {},
   "outputs": [],
   "source": [
    "    json_image = json_data[\"images\"]\n",
    "    for i in json_image:\n",
    "        if(i[\"file_name\"]==\"000000021604.jpg\"):\n",
    "            id = i[\"id\"]"
   ]
  },
  {
   "cell_type": "code",
   "execution_count": 48,
   "metadata": {},
   "outputs": [
    {
     "name": "stdout",
     "output_type": "stream",
     "text": [
      "21604\n"
     ]
    }
   ],
   "source": [
    "    print(id)"
   ]
  },
  {
   "cell_type": "code",
   "execution_count": 49,
   "metadata": {},
   "outputs": [],
   "source": [
    "    json_bbox = json_data[\"annotations\"]\n",
    "    for i in json_bbox:\n",
    "        if(i[\"image_id\"]==id):\n",
    "            bbox = i[\"bbox\"]"
   ]
  },
  {
   "cell_type": "code",
   "execution_count": 50,
   "metadata": {},
   "outputs": [
    {
     "name": "stdout",
     "output_type": "stream",
     "text": [
      "[41.71, 47.46, 438.65, 581.03]\n"
     ]
    }
   ],
   "source": [
    "    print(bbox) # x ,y , width , height"
   ]
  },
  {
   "cell_type": "code",
   "execution_count": null,
   "metadata": {},
   "outputs": [],
   "source": []
  }
 ],
 "metadata": {
  "kernelspec": {
   "display_name": "pytorch-1.3.0-cuda92",
   "language": "python",
   "name": "pytorch-1.3.0"
  },
  "language_info": {
   "codemirror_mode": {
    "name": "ipython",
    "version": 3
   },
   "file_extension": ".py",
   "mimetype": "text/x-python",
   "name": "python",
   "nbconvert_exporter": "python",
   "pygments_lexer": "ipython3",
   "version": "3.6.9"
  }
 },
 "nbformat": 4,
 "nbformat_minor": 2
}
